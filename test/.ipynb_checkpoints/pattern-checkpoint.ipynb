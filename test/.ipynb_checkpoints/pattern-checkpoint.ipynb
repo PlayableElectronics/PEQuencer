{
 "cells": [
  {
   "cell_type": "code",
   "execution_count": 31,
   "id": "0277988d-3426-459e-a85a-91368c0a6fc8",
   "metadata": {},
   "outputs": [
    {
     "name": "stdout",
     "output_type": "stream",
     "text": [
      "(16, 26)\n",
      "(144, 154)\n",
      "(272, 282)\n",
      "(400, 410)\n"
     ]
    }
   ],
   "source": [
    "channel = 0\n",
    "gate = 1\n",
    "limit = 16\n",
    "offset = 0\n",
    "\n",
    "steps = [1, 0, 0, 0, 1, 0, 0, 0, 1, 0, 0, 0, 1, 0, 0, 0]\n",
    "steps = steps[-offset:] + steps[:-offset]\n",
    "steps = steps[0: limit]\n",
    "\n",
    "score = []\n",
    "\n",
    "index = 0\n",
    "starts = []\n",
    "ends = []\n",
    "events = []\n",
    "\n",
    "for i in range(limit):\n",
    "    if steps[i] == 1:\n",
    "        offset_temp_x = i - offset\n",
    "        while (offset_temp_x > 0):\n",
    "            offset_temp_x = offset_temp_x - 16\n",
    "        if offset_temp_x < 0:\n",
    "            offset_temp_x = offset_temp_x * -1\n",
    "        offset_temp_x = 16 - offset_temp_x\n",
    "        if offset_temp_x == 16:\n",
    "            offset_temp_x = 0\n",
    "        if offset_temp_x < limit:\n",
    "            start = offset_temp_x * 32 + 16\n",
    "            end = start + gate\n",
    "            if start > 512: \n",
    "                start = start - 512\n",
    "            if end > 512:\n",
    "                end = end - 512\n",
    "            starts.append(start)\n",
    "            ends.append(end)\n",
    "            events.append((start,end))\n",
    "            index += 1\n",
    "jndex = 0\n",
    "prev = 0\n",
    "for x in events: print(x)"
   ]
  },
  {
   "cell_type": "code",
   "execution_count": 32,
   "id": "36d6231c-fdaf-4622-8a11-7c8b53239fde",
   "metadata": {},
   "outputs": [
    {
     "name": "stdout",
     "output_type": "stream",
     "text": [
      "['0x10', 'Note on', '0x9', 'Note off', '0x75', 'Note on', '0x9', 'Note off', '0x75', 'Note on', '0x9', 'Note off', '0x75', 'Note on', '0x9', 'Note off', '0x65']\n"
     ]
    }
   ],
   "source": [
    "delay = 0\n",
    "\n",
    "for i in range(512):\n",
    "    if (i in starts) or (i in ends):\n",
    "        if delay!=0:\n",
    "            score.append(hex(delay))\n",
    "            delay = 0\n",
    "        if i in starts:\n",
    "#            score.append(hex(0x90))\n",
    "            score.append(\"Note on\")\n",
    "        if i in ends:\n",
    "#            score.append(hex(0x80))\n",
    "            score.append(\"Note off\")\n",
    "    else:\n",
    "        delay = delay + 1\n",
    "\n",
    "if delay!=0:\n",
    "    score.append(hex(delay))\n",
    "    \n",
    "print(score)"
   ]
  },
  {
   "cell_type": "code",
   "execution_count": null,
   "id": "22e0d1d0-884f-4dc3-8362-5a5a5f3e1c2e",
   "metadata": {},
   "outputs": [],
   "source": []
  },
  {
   "cell_type": "code",
   "execution_count": null,
   "id": "b5c34116-739f-497f-bd6e-04f986eb1947",
   "metadata": {},
   "outputs": [],
   "source": []
  },
  {
   "cell_type": "code",
   "execution_count": null,
   "id": "a69b8509-d96c-4e06-8d4c-f02c796284a7",
   "metadata": {},
   "outputs": [],
   "source": []
  }
 ],
 "metadata": {
  "kernelspec": {
   "display_name": "Python 3 (ipykernel)",
   "language": "python",
   "name": "python3"
  },
  "language_info": {
   "codemirror_mode": {
    "name": "ipython",
    "version": 3
   },
   "file_extension": ".py",
   "mimetype": "text/x-python",
   "name": "python",
   "nbconvert_exporter": "python",
   "pygments_lexer": "ipython3",
   "version": "3.9.12"
  }
 },
 "nbformat": 4,
 "nbformat_minor": 5
}
