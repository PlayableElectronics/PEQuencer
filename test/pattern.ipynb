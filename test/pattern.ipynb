{
 "cells": [
  {
   "cell_type": "code",
   "execution_count": null,
   "id": "0277988d-3426-459e-a85a-91368c0a6fc8",
   "metadata": {},
   "outputs": [
    {
     "ename": "",
     "evalue": "",
     "output_type": "error",
     "traceback": [
      "\u001b[1;31mRunning cells with 'Python 3.10.2 64-bit' requires ipykernel package.\n",
      "\u001b[1;31mRun the following command to install 'ipykernel' into the Python environment. \n",
      "\u001b[1;31mCommand: '/Applications/Blender.app/Contents/Resources/3.2/python/bin/python3.10 -m pip install ipykernel -U --force-reinstall'"
     ]
    }
   ],
   "source": [
    "channel = 0\n",
    "gate = 2\n",
    "limit = 16\n",
    "offset = 0\n",
    "\n",
    "steps = [1, 0, 0, 0, 1, 0, 0, 0, 1, 0, 0, 0, 1, 0, 0, 0]\n",
    "steps = steps[-offset:] + steps[:-offset]\n",
    "steps = steps[0: limit]\n",
    "\n",
    "score = []\n",
    "\n",
    "index = 0\n",
    "starts = []\n",
    "ends = []\n",
    "events = []\n",
    "\n",
    "for i in range(limit):\n",
    "    if steps[i] == 1:\n",
    "        offset_temp_x = i - offset\n",
    "        while (offset_temp_x > 0):\n",
    "            offset_temp_x = offset_temp_x - 16\n",
    "        if offset_temp_x < 0:\n",
    "            offset_temp_x = offset_temp_x * -1\n",
    "        offset_temp_x = 16 - offset_temp_x\n",
    "        if offset_temp_x == 16:\n",
    "            offset_temp_x = 0\n",
    "        if offset_temp_x < limit:\n",
    "            start = offset_temp_x * 32 + 16\n",
    "            end = start + gate\n",
    "            if start > 512: \n",
    "                start = start - 512\n",
    "            if end > 512:\n",
    "                end = end - 512\n",
    "            starts.append(start)\n",
    "            ends.append(end)\n",
    "            events.append((start,end))\n",
    "            index += 1\n",
    "jndex = 0\n",
    "prev = 0\n",
    "for x in events: print(x)"
   ]
  },
  {
   "cell_type": "code",
   "execution_count": null,
   "id": "22e0d1d0-884f-4dc3-8362-5a5a5f3e1c2e",
   "metadata": {},
   "outputs": [
    {
     "ename": "",
     "evalue": "",
     "output_type": "error",
     "traceback": [
      "\u001b[1;31mRunning cells with 'Python 3.10.2 64-bit' requires ipykernel package.\n",
      "\u001b[1;31mRun the following command to install 'ipykernel' into the Python environment. \n",
      "\u001b[1;31mCommand: '/Applications/Blender.app/Contents/Resources/3.2/python/bin/python3.10 -m pip install ipykernel -U --force-reinstall'"
     ]
    }
   ],
   "source": [
    "delay = 0\n",
    "\n",
    "for i in range(512):\n",
    "    if (i in starts) or (i in ends):\n",
    "        if delay>2:\n",
    "            score.append(delay-1)\n",
    "            check = check + delay\n",
    "            delay = 0\n",
    "        if i in starts:\n",
    "            score.append(hex(0x90))\n",
    "            #check = check + 1\n",
    "        if i in ends:\n",
    "            score.append(hex(0x80))\n",
    "            #check = check + 1\n",
    "    delay = delay + 1\n",
    "if delay>2:\n",
    "    score.append(delay-1)\n",
    "    check = check + delay\n",
    "print(score, check)"
   ]
  },
  {
   "cell_type": "code",
   "execution_count": null,
   "id": "b5c34116-739f-497f-bd6e-04f986eb1947",
   "metadata": {},
   "outputs": [],
   "source": []
  },
  {
   "cell_type": "code",
   "execution_count": null,
   "id": "a69b8509-d96c-4e06-8d4c-f02c796284a7",
   "metadata": {},
   "outputs": [],
   "source": []
  }
 ],
 "metadata": {
  "kernelspec": {
   "display_name": "Python 3.10.2 64-bit",
   "language": "python",
   "name": "python3"
  },
  "language_info": {
   "codemirror_mode": {
    "name": "ipython",
    "version": 3
   },
   "file_extension": ".py",
   "mimetype": "text/x-python",
   "name": "python",
   "nbconvert_exporter": "python",
   "pygments_lexer": "ipython3",
   "version": "3.10.2"
  },
  "vscode": {
   "interpreter": {
    "hash": "72ba978d10a13b45b6fe0ca4f72435e3db1cb5fe12a329605e1a589d95fb11d9"
   }
  }
 },
 "nbformat": 4,
 "nbformat_minor": 5
}
