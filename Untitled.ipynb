{
 "cells": [
  {
   "cell_type": "code",
   "execution_count": 4,
   "id": "30cf77e7-a769-4e8b-8e53-bd6de78cd2b1",
   "metadata": {},
   "outputs": [
    {
     "ename": "TypeError",
     "evalue": "unsupported operand type(s) for >>: 'set' and 'int'",
     "output_type": "error",
     "traceback": [
      "\u001b[0;31m---------------------------------------------------------------------------\u001b[0m",
      "\u001b[0;31mTypeError\u001b[0m                                 Traceback (most recent call last)",
      "Cell \u001b[0;32mIn [4], line 2\u001b[0m\n\u001b[1;32m      1\u001b[0m x \u001b[38;5;241m=\u001b[39m {\u001b[38;5;241m0x90\u001b[39m,\u001b[38;5;241m0x00\u001b[39m,\u001b[38;5;241m0x00\u001b[39m,\u001b[38;5;241m0x00\u001b[39m,\u001b[38;5;241m0x00\u001b[39m,\u001b[38;5;241m0x00\u001b[39m,\u001b[38;5;241m0x00\u001b[39m,\u001b[38;5;241m0x00\u001b[39m}\n\u001b[0;32m----> 2\u001b[0m \u001b[38;5;28mprint\u001b[39m(\u001b[43mx\u001b[49m\u001b[38;5;241;43m>>\u001b[39;49m\u001b[38;5;241;43m8\u001b[39;49m)\n",
      "\u001b[0;31mTypeError\u001b[0m: unsupported operand type(s) for >>: 'set' and 'int'"
     ]
    }
   ],
   "source": [
    "x = {0x90,0x00,0x00,0x00,0x00,0x00,0x00,0x00}\n",
    "print(x>>8)"
   ]
  },
  {
   "cell_type": "code",
   "execution_count": 57,
   "id": "e07df99b-8749-4a75-a209-1e08ac8af06d",
   "metadata": {},
   "outputs": [
    {
     "data": {
      "text/plain": [
       "b'\\x00\\x00\\x80\\x00\\x00\\x00\\x00\\x00\\x90\\x00\\x80\\x00\\x00\\x00\\x00\\x00'"
      ]
     },
     "execution_count": 57,
     "metadata": {},
     "output_type": "execute_result"
    }
   ],
   "source": [
    "x = bytes.fromhex('90 00 00 00 00 00 00 00 90 00 00 00 00 00 00 00')\n",
    "y = bytes.fromhex('00 00 80 00 00 00 00 00 00 00 80 00 00 00 00 00')\n",
    "i = int.from_bytes(x, byteorder='big')\n",
    "j = int.from_bytes(y, byteorder='big')\n",
    "i = i >> 64\n",
    "k = i | j\n",
    "k.to_bytes(16, byteorder='big')"
   ]
  },
  {
   "cell_type": "code",
   "execution_count": 117,
   "id": "b02a2417-f10f-4e86-9279-e7d3d8c0426d",
   "metadata": {},
   "outputs": [
    {
     "name": "stdout",
     "output_type": "stream",
     "text": [
      "[21, 147, 273, 336, 401, 511]\n",
      "[2, 25, 153, 277, 337, 407]\n",
      "[2, 128, '0x80', '0xAA', '0x41', 23, 128, '0x80', '0xAA', '0x41', 128, 128, '0x80', '0xAA', '0x41', 124, 128, '0x80', '0xAA', '0x41', 60, 128, '0x80', '0xAA', '0x41', 70, 128, '0x80', '0xAA', '0x41', 105, '0xE0']\n"
     ]
    }
   ],
   "source": [
    "trigs = [1,0,0,0,1,0,0,0,1,0,1,0,1,0,0,1]\n",
    "offss = [5,0,0,0,3,0,0,0,1,0,0,0,1,0,0,15]\n",
    "gates = [4,0,0,0,6,0,0,0,4,0,1,0,6,0,0,3]\n",
    "starts = []\n",
    "ends = []\n",
    "out = []\n",
    "prev = 0\n",
    "for (index,val) in enumerate(trigs):\n",
    "    if val==1:\n",
    "        start = (index*32)+16\n",
    "        start = start + offss[index]\n",
    "        end = start + gates[index]\n",
    "        if start>512:\n",
    "            start = start-512\n",
    "        if end>512:\n",
    "            end = end-512\n",
    "        starts.append(start)\n",
    "        ends.append(end)\n",
    "starts.sort()\n",
    "ends.sort()\n",
    "print(starts)\n",
    "print(ends)\n",
    "for (index,val) in enumerate(starts):\n",
    "    if starts[index]<ends[index]:\n",
    "        out.append(starts[index]-prev)\n",
    "        out.append('0x90') #noteon\n",
    "        out.append('0xAA') #note\n",
    "        out.append('0x41') #velocity\n",
    "        prev = starts[index]\n",
    "    elif starts[index]>ends[index]:\n",
    "        out.append(ends[index]-prev)\n",
    "        out.append(0x80)\n",
    "        out.append('0x80') #noteoff\n",
    "        out.append('0xAA') #note\n",
    "        out.append('0x41') #velocity\n",
    "        prev = ends[index]\n",
    "    else:\n",
    "        out.append(starts[index]-prev)\n",
    "        out.append('0x90') #noteon\n",
    "        out.append('0xAA') #note\n",
    "        out.append('0x41') #velocity\n",
    "        out.append('0x80') #noteff\n",
    "        out.append('0xAA') #note\n",
    "        prev = starts[index]\n",
    "        \n",
    "out.append(512-prev)\n",
    "out.append('0xE0')\n",
    "print(out)"
   ]
  }
 ],
 "metadata": {
  "kernelspec": {
   "display_name": "Python 3 (ipykernel)",
   "language": "python",
   "name": "python3"
  },
  "language_info": {
   "codemirror_mode": {
    "name": "ipython",
    "version": 3
   },
   "file_extension": ".py",
   "mimetype": "text/x-python",
   "name": "python",
   "nbconvert_exporter": "python",
   "pygments_lexer": "ipython3",
   "version": "3.10.8"
  }
 },
 "nbformat": 4,
 "nbformat_minor": 5
}
